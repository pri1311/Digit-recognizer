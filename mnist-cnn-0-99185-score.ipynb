{
 "cells": [
  {
   "cell_type": "code",
   "execution_count": 1,
   "id": "089b4f33",
   "metadata": {
    "_cell_guid": "b1076dfc-b9ad-4769-8c92-a6c4dae69d19",
    "_uuid": "8f2839f25d086af736a60e9eeb907d3b93b6e0e5",
    "execution": {
     "iopub.execute_input": "2022-05-14T18:05:28.306183Z",
     "iopub.status.busy": "2022-05-14T18:05:28.305377Z",
     "iopub.status.idle": "2022-05-14T18:05:31.068877Z",
     "shell.execute_reply": "2022-05-14T18:05:31.068200Z",
     "shell.execute_reply.started": "2022-05-14T15:50:13.635942Z"
    },
    "papermill": {
     "duration": 2.791985,
     "end_time": "2022-05-14T18:05:31.069040",
     "exception": false,
     "start_time": "2022-05-14T18:05:28.277055",
     "status": "completed"
    },
    "tags": []
   },
   "outputs": [],
   "source": [
    "import torch\n",
    "import torchvision\n",
    "import numpy as np\n",
    "import pandas as pd\n",
    "import matplotlib.pyplot as plt\n",
    "import seaborn as sns\n",
    "import torch.nn as nn\n",
    "import torchvision.transforms as transforms\n",
    "from torch.utils.data import DataLoader\n",
    "from torch.utils.data import Dataset"
   ]
  },
  {
   "cell_type": "code",
   "execution_count": 2,
   "id": "b8efcfc5",
   "metadata": {
    "execution": {
     "iopub.execute_input": "2022-05-14T18:05:31.107784Z",
     "iopub.status.busy": "2022-05-14T18:05:31.107002Z",
     "iopub.status.idle": "2022-05-14T18:05:31.112017Z",
     "shell.execute_reply": "2022-05-14T18:05:31.112497Z",
     "shell.execute_reply.started": "2022-05-14T15:50:16.137479Z"
    },
    "papermill": {
     "duration": 0.025673,
     "end_time": "2022-05-14T18:05:31.112645",
     "exception": false,
     "start_time": "2022-05-14T18:05:31.086972",
     "status": "completed"
    },
    "tags": []
   },
   "outputs": [],
   "source": [
    "torch.manual_seed(42)\n",
    "np.random.seed(42)\n",
    "torch.cuda.manual_seed_all(42)"
   ]
  },
  {
   "cell_type": "code",
   "execution_count": 3,
   "id": "4010d4e1",
   "metadata": {
    "execution": {
     "iopub.execute_input": "2022-05-14T18:05:31.148826Z",
     "iopub.status.busy": "2022-05-14T18:05:31.147898Z",
     "iopub.status.idle": "2022-05-14T18:05:36.272790Z",
     "shell.execute_reply": "2022-05-14T18:05:36.273318Z",
     "shell.execute_reply.started": "2022-05-14T15:50:16.147250Z"
    },
    "papermill": {
     "duration": 5.144875,
     "end_time": "2022-05-14T18:05:36.273523",
     "exception": false,
     "start_time": "2022-05-14T18:05:31.128648",
     "status": "completed"
    },
    "tags": []
   },
   "outputs": [],
   "source": [
    "dftrain = pd.read_csv(\"../input/digit-recognizer/train.csv\")\n",
    "dftest = pd.read_csv(\"../input/digit-recognizer/test.csv\")\n",
    "sub = pd.read_csv('../input/digit-recognizer/sample_submission.csv')"
   ]
  },
  {
   "cell_type": "code",
   "execution_count": 4,
   "id": "d4d38aca",
   "metadata": {
    "execution": {
     "iopub.execute_input": "2022-05-14T18:05:36.312047Z",
     "iopub.status.busy": "2022-05-14T18:05:36.311250Z",
     "iopub.status.idle": "2022-05-14T18:05:36.314912Z",
     "shell.execute_reply": "2022-05-14T18:05:36.315583Z",
     "shell.execute_reply.started": "2022-05-14T15:50:21.797810Z"
    },
    "papermill": {
     "duration": 0.026409,
     "end_time": "2022-05-14T18:05:36.315712",
     "exception": false,
     "start_time": "2022-05-14T18:05:36.289303",
     "status": "completed"
    },
    "tags": []
   },
   "outputs": [],
   "source": [
    "class CustomImageDataset(Dataset):\n",
    "    def __init__(self, df, transform=None, train=True):\n",
    "        if train:\n",
    "            self.labels = df.iloc[:,0]\n",
    "            self.imgs = df.iloc[:,1:]\n",
    "        else:\n",
    "            self.imgs = df.iloc[:,:]\n",
    "        self.transform = transform\n",
    "\n",
    "    def __len__(self):\n",
    "        return len(self.imgs)\n",
    "\n",
    "    def __getitem__(self, idx):\n",
    "        image = torch.tensor(self.imgs.iloc[idx,:])\n",
    "        image = torch.reshape(image, (1, 28, 28) )\n",
    "        label = torch.tensor(self.labels[idx])\n",
    "        return image, label"
   ]
  },
  {
   "cell_type": "code",
   "execution_count": 5,
   "id": "587b18c9",
   "metadata": {
    "execution": {
     "iopub.execute_input": "2022-05-14T18:05:36.352664Z",
     "iopub.status.busy": "2022-05-14T18:05:36.351080Z",
     "iopub.status.idle": "2022-05-14T18:05:36.353398Z",
     "shell.execute_reply": "2022-05-14T18:05:36.353873Z",
     "shell.execute_reply.started": "2022-05-14T15:50:21.808093Z"
    },
    "papermill": {
     "duration": 0.023563,
     "end_time": "2022-05-14T18:05:36.354024",
     "exception": false,
     "start_time": "2022-05-14T18:05:36.330461",
     "status": "completed"
    },
    "tags": []
   },
   "outputs": [],
   "source": [
    "class CustomTestDataset(Dataset):\n",
    "    def __init__(self, df, transform=None):\n",
    "        self.imgs = df.iloc[:,:]\n",
    "        self.transform = transform\n",
    "\n",
    "    def __len__(self):\n",
    "        return len(self.imgs)\n",
    "\n",
    "    def __getitem__(self, idx):\n",
    "        image = torch.tensor(self.imgs.iloc[idx,:])\n",
    "        image = torch.reshape(image, (1, 28, 28) )\n",
    "        return image"
   ]
  },
  {
   "cell_type": "code",
   "execution_count": 6,
   "id": "de0802ba",
   "metadata": {
    "execution": {
     "iopub.execute_input": "2022-05-14T18:05:36.389124Z",
     "iopub.status.busy": "2022-05-14T18:05:36.388472Z",
     "iopub.status.idle": "2022-05-14T18:05:36.393341Z",
     "shell.execute_reply": "2022-05-14T18:05:36.392794Z",
     "shell.execute_reply.started": "2022-05-14T16:36:36.678246Z"
    },
    "papermill": {
     "duration": 0.024564,
     "end_time": "2022-05-14T18:05:36.393486",
     "exception": false,
     "start_time": "2022-05-14T18:05:36.368922",
     "status": "completed"
    },
    "tags": []
   },
   "outputs": [],
   "source": [
    "train_dataloader = DataLoader(dataset=CustomImageDataset(dftrain), batch_size=512, shuffle=True)\n",
    "test_dataloader = DataLoader(dataset=CustomTestDataset(dftest), batch_size=512)"
   ]
  },
  {
   "cell_type": "code",
   "execution_count": 7,
   "id": "91cf4a84",
   "metadata": {
    "execution": {
     "iopub.execute_input": "2022-05-14T18:05:36.436766Z",
     "iopub.status.busy": "2022-05-14T18:05:36.435947Z",
     "iopub.status.idle": "2022-05-14T18:05:36.438506Z",
     "shell.execute_reply": "2022-05-14T18:05:36.437943Z",
     "shell.execute_reply.started": "2022-05-14T17:44:29.944095Z"
    },
    "papermill": {
     "duration": 0.029774,
     "end_time": "2022-05-14T18:05:36.438625",
     "exception": false,
     "start_time": "2022-05-14T18:05:36.408851",
     "status": "completed"
    },
    "tags": []
   },
   "outputs": [],
   "source": [
    "class net(nn.Module):\n",
    "    # Constructor\n",
    "    def __init__(self):\n",
    "        super(net, self).__init__()\n",
    "        self.conv1_1 = nn.Conv2d(in_channels=1, out_channels=64, kernel_size=3, padding='same')\n",
    "        self.conv1_2 = nn.Conv2d(in_channels=64, out_channels=128, kernel_size=3, padding='same')\n",
    "        \n",
    "\n",
    "        self.conv2_1 = nn.Conv2d(in_channels=128, out_channels=256, kernel_size=3, padding='same')\n",
    "        self.conv2_2 = nn.Conv2d(in_channels=256, out_channels=64, kernel_size=3, padding='same')\n",
    "        \n",
    "        self.bn1 = nn.BatchNorm2d(128)\n",
    "        self.bn2 = nn.BatchNorm2d(64)\n",
    "        \n",
    "        self.pool = nn.MaxPool2d(kernel_size=2, stride=2)\n",
    "        \n",
    "        self.fc1 = nn.Linear(3136, 1024)\n",
    "        self.fc2 = nn.Linear(1024, 10)\n",
    "        \n",
    "        self.relu = nn.ReLU()\n",
    "        \n",
    "        self.dropout = nn.Dropout(p=0.2)\n",
    "        \n",
    "    # Prediction\n",
    "    def forward(self, x):   \n",
    "        y = self.conv1_1(x)\n",
    "        y = self.relu(y)\n",
    "        y = self.conv1_2(y)\n",
    "        y = self.relu(y)\n",
    "        \n",
    "        y = self.pool(y)\n",
    "        \n",
    "        y = self.bn1(y)\n",
    "        \n",
    "        y = self.conv2_1(y)\n",
    "        y = self.relu(y)\n",
    "        y = self.conv2_2(y)\n",
    "        y = self.relu(y)\n",
    "        \n",
    "        y = self.pool(y)\n",
    "        y = self.bn2(y)\n",
    "        \n",
    "        y = y.reshape(y.shape[0], -1)\n",
    "        \n",
    "        y = self.fc1(y)\n",
    "        y = self.relu(y)\n",
    "        \n",
    "        y = self.dropout(y)\n",
    "        \n",
    "        y = self.fc2(y)\n",
    "        y = self.relu(y)\n",
    "        \n",
    "        return y"
   ]
  },
  {
   "cell_type": "code",
   "execution_count": 8,
   "id": "f927a920",
   "metadata": {
    "execution": {
     "iopub.execute_input": "2022-05-14T18:05:36.475380Z",
     "iopub.status.busy": "2022-05-14T18:05:36.474687Z",
     "iopub.status.idle": "2022-05-14T18:05:39.445893Z",
     "shell.execute_reply": "2022-05-14T18:05:39.445375Z",
     "shell.execute_reply.started": "2022-05-14T17:44:30.639683Z"
    },
    "papermill": {
     "duration": 2.992029,
     "end_time": "2022-05-14T18:05:39.446031",
     "exception": false,
     "start_time": "2022-05-14T18:05:36.454002",
     "status": "completed"
    },
    "tags": []
   },
   "outputs": [],
   "source": [
    "device = torch.device('cuda')\n",
    "model = net()\n",
    "model = model.to(device)"
   ]
  },
  {
   "cell_type": "code",
   "execution_count": 9,
   "id": "e328a225",
   "metadata": {
    "execution": {
     "iopub.execute_input": "2022-05-14T18:05:39.483531Z",
     "iopub.status.busy": "2022-05-14T18:05:39.482609Z",
     "iopub.status.idle": "2022-05-14T18:05:39.484509Z",
     "shell.execute_reply": "2022-05-14T18:05:39.484945Z",
     "shell.execute_reply.started": "2022-05-14T17:44:31.268895Z"
    },
    "papermill": {
     "duration": 0.022601,
     "end_time": "2022-05-14T18:05:39.485067",
     "exception": false,
     "start_time": "2022-05-14T18:05:39.462466",
     "status": "completed"
    },
    "tags": []
   },
   "outputs": [],
   "source": [
    "learning_rate = 0.001\n",
    "optimizer = torch.optim.Adam(model.parameters(), lr=learning_rate)\n",
    "scheduler = torch.optim.lr_scheduler.ReduceLROnPlateau(optimizer, 'min', patience=2, verbose=True)\n",
    "criterion = nn.CrossEntropyLoss()"
   ]
  },
  {
   "cell_type": "code",
   "execution_count": 10,
   "id": "b8d03142",
   "metadata": {
    "execution": {
     "iopub.execute_input": "2022-05-14T18:05:39.523145Z",
     "iopub.status.busy": "2022-05-14T18:05:39.522495Z",
     "iopub.status.idle": "2022-05-14T18:29:07.771162Z",
     "shell.execute_reply": "2022-05-14T18:29:07.771657Z",
     "shell.execute_reply.started": "2022-05-14T17:44:50.191301Z"
    },
    "papermill": {
     "duration": 1408.271745,
     "end_time": "2022-05-14T18:29:07.771822",
     "exception": false,
     "start_time": "2022-05-14T18:05:39.500077",
     "status": "completed"
    },
    "tags": []
   },
   "outputs": [
    {
     "name": "stdout",
     "output_type": "stream",
     "text": [
      "tensor(16.6495, device='cuda:0', grad_fn=<AddBackward0>)\n",
      "tensor(3.0476, device='cuda:0', grad_fn=<AddBackward0>)\n",
      "tensor(1.6377, device='cuda:0', grad_fn=<AddBackward0>)\n",
      "tensor(1.1888, device='cuda:0', grad_fn=<AddBackward0>)\n",
      "tensor(0.7720, device='cuda:0', grad_fn=<AddBackward0>)\n",
      "tensor(0.5743, device='cuda:0', grad_fn=<AddBackward0>)\n",
      "tensor(0.3754, device='cuda:0', grad_fn=<AddBackward0>)\n",
      "tensor(0.5405, device='cuda:0', grad_fn=<AddBackward0>)\n",
      "tensor(0.6209, device='cuda:0', grad_fn=<AddBackward0>)\n",
      "tensor(3.2575, device='cuda:0', grad_fn=<AddBackward0>)\n",
      "tensor(0.9068, device='cuda:0', grad_fn=<AddBackward0>)\n",
      "Epoch     4: reducing learning rate of group 0 to 1.0000e-04.\n",
      "tensor(0.3466, device='cuda:0', grad_fn=<AddBackward0>)\n"
     ]
    }
   ],
   "source": [
    "n_epochs = 12\n",
    "loss_list = []\n",
    "def train_model(n_epochs):\n",
    "    prev = 1000\n",
    "    for epoch in range(n_epochs):\n",
    "        l = 0\n",
    "        for x, y in train_dataloader:\n",
    "            x = x.to(device, dtype=torch.float32)\n",
    "            y = y.to(device)\n",
    "            optimizer.zero_grad()\n",
    "            z = model(x)\n",
    "            loss = criterion(z, y)\n",
    "            loss.backward()\n",
    "            optimizer.step()\n",
    "            l += loss\n",
    "    \n",
    "        loss_list.append(l)\n",
    "        print(l)\n",
    "        if (l < prev):\n",
    "            prev = l\n",
    "            torch.save(model, './checkpoint.pth')\n",
    "        else:\n",
    "            scheduler.step(loss)\n",
    "\n",
    "train_model(n_epochs)"
   ]
  },
  {
   "cell_type": "code",
   "execution_count": 11,
   "id": "52adfe51",
   "metadata": {
    "execution": {
     "iopub.execute_input": "2022-05-14T18:29:07.813943Z",
     "iopub.status.busy": "2022-05-14T18:29:07.813118Z",
     "iopub.status.idle": "2022-05-14T18:29:07.846806Z",
     "shell.execute_reply": "2022-05-14T18:29:07.847597Z",
     "shell.execute_reply.started": "2022-05-14T17:23:28.696259Z"
    },
    "papermill": {
     "duration": 0.056807,
     "end_time": "2022-05-14T18:29:07.847870",
     "exception": false,
     "start_time": "2022-05-14T18:29:07.791063",
     "status": "completed"
    },
    "tags": []
   },
   "outputs": [],
   "source": [
    "torch.save(model, './checkpoint.pth')"
   ]
  },
  {
   "cell_type": "code",
   "execution_count": 12,
   "id": "d5b31330",
   "metadata": {
    "execution": {
     "iopub.execute_input": "2022-05-14T18:29:07.895209Z",
     "iopub.status.busy": "2022-05-14T18:29:07.894224Z",
     "iopub.status.idle": "2022-05-14T18:29:07.907312Z",
     "shell.execute_reply": "2022-05-14T18:29:07.906861Z",
     "shell.execute_reply.started": "2022-05-14T17:23:31.560832Z"
    },
    "papermill": {
     "duration": 0.037194,
     "end_time": "2022-05-14T18:29:07.907452",
     "exception": false,
     "start_time": "2022-05-14T18:29:07.870258",
     "status": "completed"
    },
    "tags": []
   },
   "outputs": [],
   "source": [
    "m = torch.load('./checkpoint.pth')"
   ]
  },
  {
   "cell_type": "code",
   "execution_count": 13,
   "id": "65a94438",
   "metadata": {
    "execution": {
     "iopub.execute_input": "2022-05-14T18:29:07.951930Z",
     "iopub.status.busy": "2022-05-14T18:29:07.951086Z",
     "iopub.status.idle": "2022-05-14T18:30:26.737037Z",
     "shell.execute_reply": "2022-05-14T18:30:26.736547Z",
     "shell.execute_reply.started": "2022-05-14T16:29:17.767536Z"
    },
    "papermill": {
     "duration": 78.810207,
     "end_time": "2022-05-14T18:30:26.737174",
     "exception": false,
     "start_time": "2022-05-14T18:29:07.926967",
     "status": "completed"
    },
    "tags": []
   },
   "outputs": [],
   "source": [
    "pred = torch.tensor([])\n",
    "for x in test_dataloader:\n",
    "    x = x.to(device, dtype=torch.float32)\n",
    "    pred = torch.cat((pred, np.argmax(m(x).detach().cpu(), axis = 1)))"
   ]
  },
  {
   "cell_type": "code",
   "execution_count": 14,
   "id": "6b94d74b",
   "metadata": {
    "execution": {
     "iopub.execute_input": "2022-05-14T18:30:26.783742Z",
     "iopub.status.busy": "2022-05-14T18:30:26.783049Z",
     "iopub.status.idle": "2022-05-14T18:30:26.786402Z",
     "shell.execute_reply": "2022-05-14T18:30:26.786833Z",
     "shell.execute_reply.started": "2022-05-12T19:40:22.112166Z"
    },
    "papermill": {
     "duration": 0.030165,
     "end_time": "2022-05-14T18:30:26.786962",
     "exception": false,
     "start_time": "2022-05-14T18:30:26.756797",
     "status": "completed"
    },
    "tags": []
   },
   "outputs": [
    {
     "data": {
      "text/plain": [
       "torch.Size([28000])"
      ]
     },
     "execution_count": 14,
     "metadata": {},
     "output_type": "execute_result"
    }
   ],
   "source": [
    "pred.shape"
   ]
  },
  {
   "cell_type": "code",
   "execution_count": 15,
   "id": "ba42ff7b",
   "metadata": {
    "execution": {
     "iopub.execute_input": "2022-05-14T18:30:26.833884Z",
     "iopub.status.busy": "2022-05-14T18:30:26.829934Z",
     "iopub.status.idle": "2022-05-14T18:30:26.879782Z",
     "shell.execute_reply": "2022-05-14T18:30:26.879289Z"
    },
    "papermill": {
     "duration": 0.07361,
     "end_time": "2022-05-14T18:30:26.879920",
     "exception": false,
     "start_time": "2022-05-14T18:30:26.806310",
     "status": "completed"
    },
    "tags": []
   },
   "outputs": [],
   "source": [
    "sub['Label'] = pred.type(torch.IntTensor)\n",
    "sub.to_csv('submission.csv', index=False)"
   ]
  },
  {
   "cell_type": "code",
   "execution_count": 16,
   "id": "133ed4aa",
   "metadata": {
    "execution": {
     "iopub.execute_input": "2022-05-14T18:30:26.924709Z",
     "iopub.status.busy": "2022-05-14T18:30:26.924121Z",
     "iopub.status.idle": "2022-05-14T18:30:26.934951Z",
     "shell.execute_reply": "2022-05-14T18:30:26.934511Z",
     "shell.execute_reply.started": "2022-05-12T19:40:30.700275Z"
    },
    "papermill": {
     "duration": 0.034471,
     "end_time": "2022-05-14T18:30:26.935067",
     "exception": false,
     "start_time": "2022-05-14T18:30:26.900596",
     "status": "completed"
    },
    "tags": []
   },
   "outputs": [
    {
     "data": {
      "text/html": [
       "<div>\n",
       "<style scoped>\n",
       "    .dataframe tbody tr th:only-of-type {\n",
       "        vertical-align: middle;\n",
       "    }\n",
       "\n",
       "    .dataframe tbody tr th {\n",
       "        vertical-align: top;\n",
       "    }\n",
       "\n",
       "    .dataframe thead th {\n",
       "        text-align: right;\n",
       "    }\n",
       "</style>\n",
       "<table border=\"1\" class=\"dataframe\">\n",
       "  <thead>\n",
       "    <tr style=\"text-align: right;\">\n",
       "      <th></th>\n",
       "      <th>ImageId</th>\n",
       "      <th>Label</th>\n",
       "    </tr>\n",
       "  </thead>\n",
       "  <tbody>\n",
       "    <tr>\n",
       "      <th>0</th>\n",
       "      <td>1</td>\n",
       "      <td>2</td>\n",
       "    </tr>\n",
       "    <tr>\n",
       "      <th>1</th>\n",
       "      <td>2</td>\n",
       "      <td>0</td>\n",
       "    </tr>\n",
       "    <tr>\n",
       "      <th>2</th>\n",
       "      <td>3</td>\n",
       "      <td>9</td>\n",
       "    </tr>\n",
       "    <tr>\n",
       "      <th>3</th>\n",
       "      <td>4</td>\n",
       "      <td>9</td>\n",
       "    </tr>\n",
       "    <tr>\n",
       "      <th>4</th>\n",
       "      <td>5</td>\n",
       "      <td>3</td>\n",
       "    </tr>\n",
       "  </tbody>\n",
       "</table>\n",
       "</div>"
      ],
      "text/plain": [
       "   ImageId  Label\n",
       "0        1      2\n",
       "1        2      0\n",
       "2        3      9\n",
       "3        4      9\n",
       "4        5      3"
      ]
     },
     "execution_count": 16,
     "metadata": {},
     "output_type": "execute_result"
    }
   ],
   "source": [
    "sub.head()"
   ]
  },
  {
   "cell_type": "code",
   "execution_count": null,
   "id": "4ed176f2",
   "metadata": {
    "papermill": {
     "duration": 0.020367,
     "end_time": "2022-05-14T18:30:26.975403",
     "exception": false,
     "start_time": "2022-05-14T18:30:26.955036",
     "status": "completed"
    },
    "tags": []
   },
   "outputs": [],
   "source": []
  }
 ],
 "metadata": {
  "kernelspec": {
   "display_name": "Python 3",
   "language": "python",
   "name": "python3"
  },
  "language_info": {
   "codemirror_mode": {
    "name": "ipython",
    "version": 3
   },
   "file_extension": ".py",
   "mimetype": "text/x-python",
   "name": "python",
   "nbconvert_exporter": "python",
   "pygments_lexer": "ipython3",
   "version": "3.7.12"
  },
  "papermill": {
   "default_parameters": {},
   "duration": 1508.563577,
   "end_time": "2022-05-14T18:30:28.411112",
   "environment_variables": {},
   "exception": null,
   "input_path": "__notebook__.ipynb",
   "output_path": "__notebook__.ipynb",
   "parameters": {},
   "start_time": "2022-05-14T18:05:19.847535",
   "version": "2.3.3"
  }
 },
 "nbformat": 4,
 "nbformat_minor": 5
}
